{
 "cells": [
  {
   "cell_type": "code",
   "execution_count": 104,
   "metadata": {},
   "outputs": [],
   "source": [
    "import gzip\n",
    "import re\n",
    "import matplotlib.pyplot as plt\n",
    "import pylab as plti\n",
    "import numpy as np"
   ]
  },
  {
   "cell_type": "code",
   "execution_count": 117,
   "metadata": {},
   "outputs": [],
   "source": [
    "def calc_test(data):\n",
    "    count = 0\n",
    "    with open(data, \"r\") as f:\n",
    "        q_dict = {}\n",
    "        for line in f:\n",
    "            line = line.split()\n",
    "            if len(line) > 0:\n",
    "                q_word = line[0].lower()\n",
    "                if q_word in [\"who\", \"what\", \"when\", \"where\", \"why\", \"how\", \"is\", \"whom\"]:\n",
    "                    if q_word not in q_dict.keys():\n",
    "                        q_dict[q_word] = 1\n",
    "                    else:\n",
    "                        q_dict[q_word] += 1\n",
    "                count += 1\n",
    "        print(q_dict)\n",
    "        print(count / 2)\n",
    "        for q_word in [\"who\", \"what\", \"when\", \"where\", \"why\", \"how\", \"is\", \"whom\"]:\n",
    "            if q_word not in q_dict.keys():\n",
    "                q_dict[q_word] = 0\n",
    "        return(q_dict, count / 2)"
   ]
  },
  {
   "cell_type": "code",
   "execution_count": 118,
   "metadata": {},
   "outputs": [],
   "source": [
    "def calc_actual():\n",
    "    with gzip.open(\"./WikiQA/WikiQA-dev.tsv.gz\", 'rb') as f:\n",
    "        next(f)\n",
    "        q_dict = {}\n",
    "        count = 0\n",
    "        for line in f:\n",
    "            line = line.decode('UTF-8')\n",
    "            line = line.lower()\n",
    "            arr = line.split(\"\\t\")\n",
    "            alpha = re.compile('[^0-9a-zA-Z]')\n",
    "            q = alpha.sub(' ', str(arr[1]))\n",
    "            q = q.split()\n",
    "            q = q[0]\n",
    "            if q in [\"who\", \"what\", \"when\", \"where\", \"why\", \"how\", \"is\", \"whom\"]:\n",
    "                if q not in q_dict.keys():\n",
    "                    q_dict[q] = 1\n",
    "                else:\n",
    "                    q_dict[q] += 1\n",
    "            count += 1\n",
    "        print(q_dict)\n",
    "        print(count)\n",
    "        for q_word in [\"who\", \"what\", \"when\", \"where\", \"why\", \"how\", \"is\", \"whom\"]:\n",
    "            if q_word not in q_dict.keys():\n",
    "                q_dict[q_word] = 0\n",
    "        return(q_dict, count)"
   ]
  },
  {
   "cell_type": "code",
   "execution_count": 119,
   "metadata": {},
   "outputs": [],
   "source": [
    "def calculate_proportions(bad_data, total_bad, sample_data, total_sample):\n",
    "    bad_count = total_bad\n",
    "    words = []\n",
    "    sample_prop = []\n",
    "    wrong_prop = []\n",
    "    total_count = total_sample\n",
    "    for key in bad_data:\n",
    "        bad_num = bad_data[key]\n",
    "        actual = sample_data[key]\n",
    "        bprop = float(bad_num/bad_count)\n",
    "        sprop = float(actual/total_count)\n",
    "        words.append(key)\n",
    "        wrong_prop.append(bprop)\n",
    "        sample_prop.append(sprop)\n",
    "    return((words, wrong_prop, sample_prop))\n",
    "        "
   ]
  },
  {
   "cell_type": "code",
   "execution_count": 120,
   "metadata": {},
   "outputs": [
    {
     "name": "stdout",
     "output_type": "stream",
     "text": [
      "{'how': 15, 'what': 78, 'who': 17, 'where': 20, 'when': 10}\n",
      "140.0\n",
      "{'how': 668, 'what': 1290, 'where': 224, 'who': 285, 'when': 264}\n",
      "2733\n"
     ]
    }
   ],
   "source": [
    "bad_data = calc_test(\"./WikiQA/bad.txt\")\n",
    "actual_data = calc_actual()\n",
    "\n",
    "props = calculate_proportions(bad_data[0], bad_data[1], actual_data[0], actual_data[1])"
   ]
  },
  {
   "cell_type": "code",
   "execution_count": 127,
   "metadata": {},
   "outputs": [
    {
     "data": {
      "image/png": "[encoded data removed]",
      "text/plain": [
       "<matplotlib.figure.Figure at 0x106a0e358>"
      ]
     },
     "metadata": {},
     "output_type": "display_data"
    }
   ],
   "source": [
    "temp = [0, 1, 2, 3, 4, 5, 6, 7, 8]\n",
    "ind = np.arange(8)\n",
    "width = 0.35 \n",
    "fig, ax = plt.subplots()\n",
    "rects1 = ax.bar(ind, props[1], width, color='r', label=\"wrong data\")\n",
    "rects2 = ax.bar(ind + width, props[2], width, color='b', label=\"true data\")\n",
    "plti.legend(handles=[rects1, rects2])\n",
    "plti.xticks(temp, props[0])\n",
    "plti.show()\n",
    "\n"
   ]
  },
  {
   "cell_type": "code",
   "execution_count": 128,
   "metadata": {},
   "outputs": [
    {
     "name": "stdout",
     "output_type": "stream",
     "text": [
      "{'how': 653, 'what': 1217, 'when': 263, 'where': 204, 'who': 268, 'is': 1}\n",
      "2593.0\n"
     ]
    }
   ],
   "source": [
    "good_data = calc_test(\"./WikiQA/good.txt\")\n",
    "\n",
    "props = calculate_proportions(good_data[0], good_data[1], actual_data[0], actual_data[1])"
   ]
  },
  {
   "cell_type": "code",
   "execution_count": 130,
   "metadata": {},
   "outputs": [
    {
     "data": {
      "image/png": "[encoded data removed]",
      "text/plain": [
       "<matplotlib.figure.Figure at 0x106d8ae80>"
      ]
     },
     "metadata": {},
     "output_type": "display_data"
    }
   ],
   "source": [
    "temp = [0, 1, 2, 3, 4, 5, 6, 7, 8]\n",
    "ind = np.arange(8)\n",
    "width = 0.35 \n",
    "fig, ax = plt.subplots()\n",
    "rects1 = ax.bar(ind, props[1], width, color='r', label=\"correct data\")\n",
    "rects2 = ax.bar(ind + width, props[2], width, color='b', label=\"true data\")\n",
    "plti.legend(handles=[rects1, rects2])\n",
    "plti.xticks(temp, props[0])\n",
    "plti.show()"
   ]
  },
  {
   "cell_type": "code",
   "execution_count": null,
   "metadata": {},
   "outputs": [],
   "source": []
  }
 ],
 "metadata": {
  "kernelspec": {
   "display_name": "Python 3",
   "language": "python",
   "name": "python3"
  },
  "language_info": {
   "codemirror_mode": {
    "name": "ipython",
    "version": 3
   },
   "file_extension": ".py",
   "mimetype": "text/x-python",
   "name": "python",
   "nbconvert_exporter": "python",
   "pygments_lexer": "ipython3",
   "version": "3.6.2"
  }
 },
 "nbformat": 4,
 "nbformat_minor": 2
}
